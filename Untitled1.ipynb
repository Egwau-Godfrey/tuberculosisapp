{
 "cells": [
  {
   "cell_type": "code",
   "execution_count": null,
   "id": "935fe62c-f549-4bb4-bf37-8e80c91e6f5e",
   "metadata": {},
   "outputs": [],
   "source": [
    "conda install tensorflow tensorflow-gpu opencv-python matplotlib"
   ]
  },
  {
   "cell_type": "code",
   "execution_count": null,
   "id": "2c38e032-d96a-4bfb-8bd4-fba973143dc9",
   "metadata": {},
   "outputs": [],
   "source": [
    "pip uninstall tensorflow -Y"
   ]
  },
  {
   "cell_type": "code",
   "execution_count": null,
   "id": "a632e405-7ead-4194-9d55-08be7c72b699",
   "metadata": {},
   "outputs": [],
   "source": []
  }
 ],
 "metadata": {
  "kernelspec": {
   "display_name": "Python 3 (ipykernel)",
   "language": "python",
   "name": "python3"
  },
  "language_info": {
   "codemirror_mode": {
    "name": "ipython",
    "version": 3
   },
   "file_extension": ".py",
   "mimetype": "text/x-python",
   "name": "python",
   "nbconvert_exporter": "python",
   "pygments_lexer": "ipython3",
   "version": "3.12.4"
  }
 },
 "nbformat": 4,
 "nbformat_minor": 5
}
