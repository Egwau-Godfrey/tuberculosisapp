conda install pip


pip install tensorflow tensorflow-gpu opencv-python matplotlib


pip uninstall tensorflow



pip uninstall opencv-python


pip install matplotlib
